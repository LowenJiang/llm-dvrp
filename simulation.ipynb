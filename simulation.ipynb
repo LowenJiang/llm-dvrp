{
 "cells": [
  {
   "cell_type": "code",
   "execution_count": 1,
   "metadata": {},
   "outputs": [
    {
     "name": "stdout",
     "output_type": "stream",
     "text": [
      "Solving DARP with 10 requests, 10 vehicles, time limit: 2s, time windows: enabled\n",
      "Solution found in 2006.000 seconds\n",
      "Solution found!\n",
      "Vehicle 0 route (node, time, passengers): [(0, 0, 0), (17, 379, 0), (15, 410, 1), (16, 455, 2), (18, 523, 1), (11, 561, 0), (12, 608, 1), (13, 693, 0), (14, 779, 1), (0, 845, 0)]\n",
      "Vehicle 1 route (node, time, passengers): [(0, 0, 0), (19, 411, 0), (20, 476, 1), (0, 515, 0)]\n",
      "Vehicle 2 route (node, time, passengers): [(0, 0, 0), (0, 0, 0)]\n",
      "Vehicle 3 route (node, time, passengers): [(0, 0, 0), (3, 378, 0), (4, 450, 1), (5, 461, 0), (6, 538, 1), (1, 746, 0), (9, 765, 1), (2, 839, 2), (7, 918, 1), (10, 963, 2), (8, 999, 1), (0, 1017, 0)]\n",
      "Vehicle 4 route (node, time, passengers): [(0, 0, 0), (0, 0, 0)]\n",
      "Vehicle 5 route (node, time, passengers): [(0, 0, 0), (0, 0, 0)]\n",
      "Vehicle 6 route (node, time, passengers): [(0, 0, 0), (0, 0, 0)]\n",
      "Vehicle 7 route (node, time, passengers): [(0, 0, 0), (0, 0, 0)]\n",
      "Vehicle 8 route (node, time, passengers): [(0, 0, 0), (0, 0, 0)]\n",
      "Vehicle 9 route (node, time, passengers): [(0, 0, 0), (0, 0, 0)]\n",
      "Total distance (cost): 1066\n",
      "Number of served requests (pickup/dropoff pairs): 10\n",
      "Node 2 is visited at time: 839\n",
      "\n",
      "Route information:\n",
      "Vehicle 3: Node 2 visited at time 839\n"
     ]
    }
   ],
   "source": [
    "import simulate\n",
    "\n",
    "# Run simulation and get all the objects\n",
    "sol = simulate.simulate(n_requests=10, coord_range=100, min_pickup_time=300, max_pickup_time=1000, pickup_time_window=30, velocity=1, num_vehicles=10, time_limit=2, use_time_windows=True)\n",
    "\n",
    "# Extract the objects properly\n",
    "manager = sol[\"manager\"]\n",
    "routing = sol[\"routing\"]\n",
    "time_dimension = sol[\"time_dimension\"]\n",
    "solution = sol[\"solution\"]\n",
    "\n",
    "# Now check node 2's time value\n",
    "node = 2  # This is the node ID (not index)\n",
    "index = manager.NodeToIndex(node)  # Convert node to index\n",
    "time_var = time_dimension.CumulVar(index)\n",
    "time_val = solution.Value(time_var)\n",
    "print(f\"Node {node} is visited at time: {time_val}\")\n",
    "\n",
    "# Let's also check what the route shows for this node\n",
    "print(\"\\nRoute information:\")\n",
    "for vehicle_id in range(routing.vehicles()):\n",
    "    vehicle_index = routing.Start(vehicle_id)\n",
    "    route_info = []\n",
    "    while not routing.IsEnd(vehicle_index):\n",
    "        current_node = manager.IndexToNode(vehicle_index)\n",
    "        current_time_var = time_dimension.CumulVar(vehicle_index)\n",
    "        current_time_val = solution.Value(current_time_var)\n",
    "        route_info.append((current_node, current_time_val))\n",
    "        vehicle_index = solution.Value(routing.NextVar(vehicle_index))\n",
    "    \n",
    "    # Check end node too\n",
    "    end_node = manager.IndexToNode(vehicle_index)\n",
    "    end_time_var = time_dimension.CumulVar(vehicle_index)\n",
    "    end_time_val = solution.Value(end_time_var)\n",
    "    route_info.append((end_node, end_time_val))\n",
    "    \n",
    "    # Check if node 2 is in this route\n",
    "    for node_id, time_val in route_info:\n",
    "        if node_id == node:\n",
    "            print(f\"Vehicle {vehicle_id}: Node {node_id} visited at time {time_val}\")\n",
    "            break\n"
   ]
  },
  {
   "cell_type": "markdown",
   "metadata": {},
   "source": [
    "## Example:  Solve a simple DARP with PYVRP"
   ]
  },
  {
   "cell_type": "code",
   "execution_count": 2,
   "metadata": {},
   "outputs": [],
   "source": [
    "%load_ext autoreload\n",
    "%autoreload 2"
   ]
  },
  {
   "cell_type": "code",
   "execution_count": 2,
   "metadata": {},
   "outputs": [
    {
     "name": "stdout",
     "output_type": "stream",
     "text": [
      "Solution found!\n",
      "Vehicle 0 route (node, time, passengers): [(0, 0, 0), (0, 0, 0)]\n",
      "Vehicle 1 route (node, time, passengers): [(0, 0, 0), (9, 36, 0), (17, 40, 1), (3, 87, 2), (4, 138, 3), (18, 154, 2), (10, 182, 1), (5, 201, 0), (7, 251, 1), (11, 265, 2), (6, 286, 3), (1, 321, 2), (8, 342, 3), (13, 369, 2), (12, 390, 3), (14, 408, 2), (15, 424, 1), (2, 441, 2), (16, 535, 1), (19, 574, 0), (20, 601, 1), (0, 614, 0)]\n",
      "Vehicle 2 route (node, time, passengers): [(0, 0, 0), (0, 0, 0)]\n",
      "Vehicle 3 route (node, time, passengers): [(0, 0, 0), (0, 0, 0)]\n",
      "Vehicle 4 route (node, time, passengers): [(0, 0, 0), (0, 0, 0)]\n",
      "Total distance (cost): 614\n",
      "Number of served requests (pickup/dropoff pairs): 10\n"
     ]
    },
    {
     "data": {
      "text/plain": [
       "614"
      ]
     },
     "execution_count": 2,
     "metadata": {},
     "output_type": "execute_result"
    }
   ],
   "source": [
    "import simulate\n",
    "problem_instance = simulate.generate_darp_instance(n_requests=10, coord_range=100, min_pickup_time=300, max_pickup_time=1000, pickup_time_window=30, velocity=1)\n",
    "\n",
    "coordinates = problem_instance[\"coordinates\"]\n",
    "time_windows = problem_instance[\"time_windows\"]\n",
    "distance_matrix = problem_instance[\"distance_matrix\"]\n",
    "\n",
    "manager, routing, time_dimension, search_parameters  = simulate.create_darp_model(coordinates=coordinates, time_windows=None, distance_matrix=distance_matrix, num_vehicles=5, time_limit=5)\n",
    "\n",
    "solution = routing.SolveWithParameters(search_parameters)\n",
    "\n",
    "simulate.print_solution(manager, routing, time_dimension, solution)\n",
    "\n",
    "solution.ObjectiveValue()"
   ]
  },
  {
   "cell_type": "markdown",
   "metadata": {},
   "source": [
    "## Case 1: Solving N requests with time window"
   ]
  },
  {
   "cell_type": "code",
   "execution_count": 5,
   "metadata": {},
   "outputs": [],
   "source": [
    "results = {}"
   ]
  },
  {
   "cell_type": "code",
   "execution_count": 5,
   "metadata": {},
   "outputs": [
    {
     "name": "stderr",
     "output_type": "stream",
     "text": [
      "100%|██████████| 10/10 [00:50<00:00,  5.00s/it]"
     ]
    },
    {
     "name": "stdout",
     "output_type": "stream",
     "text": [
      "[1712, 1607, 1614, 1710, 1696, 1648, 1651, 1574, 1706, 1647]\n"
     ]
    },
    {
     "name": "stderr",
     "output_type": "stream",
     "text": [
      "\n"
     ]
    }
   ],
   "source": [
    "from tqdm import tqdm\n",
    "import json\n",
    "\n",
    "n_experiments = 10\n",
    "\n",
    "time_constraint_objs = []\n",
    "\n",
    "for i in tqdm(range(n_experiments)):\n",
    "    problem_instance = simulate.generate_darp_instance(n_requests=20, coord_range=100, min_pickup_time=300, max_pickup_time=1000, pickup_time_window=30, velocity=1)\n",
    "    coordinates = problem_instance[\"coordinates\"]\n",
    "    time_windows = problem_instance[\"time_windows\"]\n",
    "    distance_matrix = problem_instance[\"distance_matrix\"]\n",
    "\n",
    "    manager, routing, time_dimension, search_parameters  = simulate.create_darp_model(coordinates, time_windows, distance_matrix, num_vehicles=10, time_limit=5)\n",
    "\n",
    "    solution = routing.SolveWithParameters(search_parameters)\n",
    "\n",
    "    obj = solution.ObjectiveValue()\n",
    "\n",
    "    time_constraint_objs.append(obj)\n",
    "\n",
    "\n",
    "print(time_constraint_objs)\n",
    "results['spoiled_user'] = time_constraint_objs\n"
   ]
  },
  {
   "cell_type": "markdown",
   "metadata": {},
   "source": [
    "## Case 2: Solve DARP with full time assignment "
   ]
  },
  {
   "cell_type": "code",
   "execution_count": 6,
   "metadata": {},
   "outputs": [
    {
     "name": "stderr",
     "output_type": "stream",
     "text": [
      "100%|██████████| 10/10 [00:50<00:00,  5.01s/it]"
     ]
    },
    {
     "name": "stdout",
     "output_type": "stream",
     "text": [
      "[969, 1027, 1088, 969, 1002, 1024, 1063, 1056, 918, 975]\n"
     ]
    },
    {
     "name": "stderr",
     "output_type": "stream",
     "text": [
      "\n"
     ]
    }
   ],
   "source": [
    "no_time_constraint_objs = []\n",
    "\n",
    "for i in tqdm(range(n_experiments)):\n",
    "    problem_instance = simulate.generate_darp_instance(n_requests=20)\n",
    "    coordinates = problem_instance[\"coordinates\"]\n",
    "    time_windows = problem_instance[\"time_windows\"]\n",
    "    distance_matrix = problem_instance[\"distance_matrix\"]\n",
    "\n",
    "    manager, routing, time_dimension, search_parameters  = simulate.create_darp_model(coordinates=coordinates, time_windows=None, distance_matrix=distance_matrix, num_vehicles=10, time_limit=5)\n",
    "\n",
    "    solution = routing.SolveWithParameters(search_parameters)\n",
    "\n",
    "    obj = solution.ObjectiveValue()\n",
    "\n",
    "    no_time_constraint_objs.append(obj)\n",
    "\n",
    "results['stoic_user'] = no_time_constraint_objs\n",
    "print(no_time_constraint_objs)\n",
    "\n"
   ]
  },
  {
   "cell_type": "markdown",
   "metadata": {},
   "source": [
    "## Case 3: Solving DARP with greedy time assignment (and random acceptance)"
   ]
  },
  {
   "cell_type": "code",
   "execution_count": null,
   "metadata": {},
   "outputs": [],
   "source": [
    "# iteratively: consider a new request with no time constraint (by a probability), add to the model. and solve the model.\n",
    "# If the new flex_time constraint is accepted, then it becomes fixed in the future iterations.\n",
    "# For different number of requests:\n",
    "# acceptance probability\n",
    "import random \n",
    "\n",
    "from tqdm import tqdm\n",
    "import json \n",
    "n_experiments = 10\n",
    "# Acceptance rate\n",
    "for p in [0.75, 0.5, 0.25]:\n",
    "\n",
    "    greedy_obj = []\n",
    "\n",
    "    for i in tqdm(range(n_experiments)):\n",
    "\n",
    "        # Initiate the problem instance\n",
    "        problem_instance = simulate.generate_darp_instance(n_requests=20)\n",
    "        coordinates = problem_instance[\"coordinates\"]\n",
    "        time_windows = problem_instance[\"time_windows\"]\n",
    "        distance_matrix = problem_instance[\"distance_matrix\"]\n",
    "\n",
    "        time_windows_j = None\n",
    "\n",
    "        # Consider the first 10 requests, incoming 11st become flexible, accepted with a probability\n",
    "        for j in range(10,20):\n",
    "            #extract the problem instance between 0 and j-1, plus the new j request being\n",
    "            coordinates_j = coordinates[:j+1]\n",
    "            # probability of changing the time window is p\n",
    "            r = random.SystemRandom().random()\n",
    "            if r < p:\n",
    "                if not time_windows_j:\n",
    "                    time_windows_j = time_windows[:j] + [(300,1000)]\n",
    "                else:\n",
    "                    time_windows_j = time_windows_j + [(300,1000)]\n",
    "            else:\n",
    "                if not time_windows_j:\n",
    "                    time_windows_j = time_windows[:j] + [time_windows[j]]\n",
    "                else:\n",
    "                    time_windows_j = time_windows_j + [time_windows[j]]\n",
    "    \n",
    "\n",
    "            distance_matrix_j = distance_matrix[:2*j+3, :2*j+3]\n",
    "            # Solve the problem instance\n",
    "\n",
    "            manager, routing, time_dimension, search_parameters  = simulate.create_darp_model(coordinates=coordinates_j, time_windows=time_windows_j, distance_matrix=distance_matrix_j, num_vehicles=10, time_limit=5)\n",
    "\n",
    "            solution = routing.SolveWithParameters(search_parameters)\n",
    "\n",
    "            jth_pickup_node = manager.NodeToIndex(2*j+1)\n",
    "            jth_dropoff_node = manager.NodeToIndex(2*j+2)\n",
    "\n",
    "            pickup_time_var = time_dimension.CumulVar(jth_pickup_node)\n",
    "            pickup_time_val = solution.Value(pickup_time_var)\n",
    "\n",
    "            dropoff_time_var = time_dimension.CumulVar(jth_dropoff_node)\n",
    "            dropoff_time_val = solution.Value(dropoff_time_var)\n",
    "\n",
    "            # Update the time window of the jth request \n",
    "            time_windows_j = time_windows_j[:j] + [(pickup_time_val-15, pickup_time_val+15)]\n",
    "\n",
    "            print(f\"New Pickup Time for {j}:\" + str([(pickup_time_val-15, pickup_time_val+15)]))\n",
    "        \n",
    "        print(\"time_windows_j: \", time_windows_j)\n",
    "        print(\"coordinates_j: \", coordinates_j)\n",
    "        print(\"distance_matrix_j: \", distance_matrix_j)\n",
    "        \n",
    "        manager, routing, time_dimension, search_parameters  = simulate.create_darp_model(coordinates=coordinates_j, time_windows=time_windows_j, distance_matrix=distance_matrix_j, num_vehicles=10, time_limit=10)\n",
    "        \n",
    "        solution = routing.SolveWithParameters(search_parameters)\n",
    "\n",
    "        obj = solution.ObjectiveValue()\n",
    "\n",
    "        greedy_obj.append(obj)\n",
    "        \n",
    "        print(obj)\n",
    "        print(\"--------------------------------\")\n",
    "\n",
    "    print(greedy_obj)\n",
    "    results[f\"acceptance_rate_{p}\"] = greedy_obj\n",
    "\n",
    "\n",
    "\n"
   ]
  },
  {
   "cell_type": "code",
   "execution_count": 7,
   "metadata": {},
   "outputs": [],
   "source": [
    "# Load data from json file\n",
    "#json.dump(results, open(\"results_comparison.json\", \"w\"))\n",
    "with open(\"results_comparison.json\", \"r\") as f:\n",
    "    all_results = json.load(f)\n"
   ]
  },
  {
   "cell_type": "markdown",
   "metadata": {},
   "source": [
    "## Compare the performance"
   ]
  },
  {
   "cell_type": "code",
   "execution_count": 13,
   "metadata": {},
   "outputs": [
    {
     "data": {
      "image/png": "[encoded data removed]",
      "text/plain": [
       "<Figure size 1000x600 with 1 Axes>"
      ]
     },
     "metadata": {},
     "output_type": "display_data"
    }
   ],
   "source": [
    "import seaborn as sns\n",
    "import matplotlib.pyplot as plt\n",
    "import pandas as pd\n",
    "\n",
    "# Prepare data for visualization\n",
    "data = []\n",
    "for strategy, values in all_results.items():\n",
    "    for value in values:\n",
    "        data.append({'Strategy': strategy, 'Objective Value': value})\n",
    "\n",
    "df = pd.DataFrame(data)\n",
    "\n",
    "# Define the desired order for x-axis labels\n",
    "strategy_order = ['stoic_user', 'acceptance_rate_1', 'acceptance_rate_0.75', 'acceptance_rate_0.5', 'acceptance_rate_0.25', 'spoiled_user']\n",
    "\n",
    "# Create bar plot with whiskers\n",
    "plt.figure(figsize=(10, 6))\n",
    "sns.barplot(data=df, x='Strategy', y='Objective Value', order=strategy_order, capsize=0.1, err_kws={'linewidth': 2})\n",
    "plt.title('Performance Comparison of Different Strategies on 20 requests, 10 vehicles on a 100x100 grid')\n",
    "plt.ylabel('Objective Value')\n",
    "plt.xlabel('Strategy')\n",
    "plt.xticks(rotation=45)\n",
    "plt.tight_layout()\n",
    "plt.show()\n"
   ]
  }
 ],
 "metadata": {
  "kernelspec": {
   "display_name": "base",
   "language": "python",
   "name": "python3"
  },
  "language_info": {
   "codemirror_mode": {
    "name": "ipython",
    "version": 3
   },
   "file_extension": ".py",
   "mimetype": "text/x-python",
   "name": "python",
   "nbconvert_exporter": "python",
   "pygments_lexer": "ipython3",
   "version": "3.12.3"
  }
 },
 "nbformat": 4,
 "nbformat_minor": 2
}
